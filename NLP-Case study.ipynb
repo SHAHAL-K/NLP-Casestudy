{
 "cells": [
  {
   "cell_type": "code",
   "execution_count": 38,
   "id": "8abaa903",
   "metadata": {},
   "outputs": [],
   "source": [
    "import pandas as pd\n",
    "import numpy as np\n",
    "import seaborn as sns\n",
    "import matplotlib.pyplot as plt\n",
    "import warnings\n",
    "warnings.filterwarnings(action='once')"
   ]
  },
  {
   "cell_type": "code",
   "execution_count": 39,
   "id": "bb3995ee",
   "metadata": {},
   "outputs": [],
   "source": [
    "data=pd.read_csv(r'D:\\BBC News.csv')"
   ]
  },
  {
   "cell_type": "code",
   "execution_count": 40,
   "id": "3cfab680",
   "metadata": {},
   "outputs": [
    {
     "data": {
      "text/html": [
       "<div>\n",
       "<style scoped>\n",
       "    .dataframe tbody tr th:only-of-type {\n",
       "        vertical-align: middle;\n",
       "    }\n",
       "\n",
       "    .dataframe tbody tr th {\n",
       "        vertical-align: top;\n",
       "    }\n",
       "\n",
       "    .dataframe thead th {\n",
       "        text-align: right;\n",
       "    }\n",
       "</style>\n",
       "<table border=\"1\" class=\"dataframe\">\n",
       "  <thead>\n",
       "    <tr style=\"text-align: right;\">\n",
       "      <th></th>\n",
       "      <th>ArticleId</th>\n",
       "      <th>Text</th>\n",
       "      <th>Category</th>\n",
       "    </tr>\n",
       "  </thead>\n",
       "  <tbody>\n",
       "    <tr>\n",
       "      <th>0</th>\n",
       "      <td>1833</td>\n",
       "      <td>worldcom ex-boss launches defence lawyers defe...</td>\n",
       "      <td>business</td>\n",
       "    </tr>\n",
       "    <tr>\n",
       "      <th>1</th>\n",
       "      <td>154</td>\n",
       "      <td>german business confidence slides german busin...</td>\n",
       "      <td>business</td>\n",
       "    </tr>\n",
       "    <tr>\n",
       "      <th>2</th>\n",
       "      <td>1101</td>\n",
       "      <td>bbc poll indicates economic gloom citizens in ...</td>\n",
       "      <td>business</td>\n",
       "    </tr>\n",
       "    <tr>\n",
       "      <th>3</th>\n",
       "      <td>1976</td>\n",
       "      <td>lifestyle  governs mobile choice  faster  bett...</td>\n",
       "      <td>tech</td>\n",
       "    </tr>\n",
       "    <tr>\n",
       "      <th>4</th>\n",
       "      <td>917</td>\n",
       "      <td>enron bosses in $168m payout eighteen former e...</td>\n",
       "      <td>business</td>\n",
       "    </tr>\n",
       "  </tbody>\n",
       "</table>\n",
       "</div>"
      ],
      "text/plain": [
       "   ArticleId                                               Text  Category\n",
       "0       1833  worldcom ex-boss launches defence lawyers defe...  business\n",
       "1        154  german business confidence slides german busin...  business\n",
       "2       1101  bbc poll indicates economic gloom citizens in ...  business\n",
       "3       1976  lifestyle  governs mobile choice  faster  bett...      tech\n",
       "4        917  enron bosses in $168m payout eighteen former e...  business"
      ]
     },
     "execution_count": 40,
     "metadata": {},
     "output_type": "execute_result"
    }
   ],
   "source": [
    "data.head()"
   ]
  },
  {
   "cell_type": "code",
   "execution_count": 41,
   "id": "4db1a1b9",
   "metadata": {},
   "outputs": [
    {
     "data": {
      "text/plain": [
       "Index(['ArticleId', 'Text', 'Category'], dtype='object')"
      ]
     },
     "execution_count": 41,
     "metadata": {},
     "output_type": "execute_result"
    }
   ],
   "source": [
    "data.columns"
   ]
  },
  {
   "cell_type": "code",
   "execution_count": 42,
   "id": "65ed0ba4",
   "metadata": {},
   "outputs": [
    {
     "data": {
      "text/plain": [
       "(1490, 3)"
      ]
     },
     "execution_count": 42,
     "metadata": {},
     "output_type": "execute_result"
    }
   ],
   "source": [
    "data.shape"
   ]
  },
  {
   "cell_type": "code",
   "execution_count": 43,
   "id": "68476a35",
   "metadata": {},
   "outputs": [
    {
     "data": {
      "text/plain": [
       "0"
      ]
     },
     "execution_count": 43,
     "metadata": {},
     "output_type": "execute_result"
    }
   ],
   "source": [
    "data.duplicated().sum()"
   ]
  },
  {
   "cell_type": "code",
   "execution_count": 44,
   "id": "4971e78b",
   "metadata": {},
   "outputs": [
    {
     "data": {
      "image/png": "[encoded data removed]",
      "text/plain": [
       "<Figure size 432x288 with 1 Axes>"
      ]
     },
     "metadata": {},
     "output_type": "display_data"
    }
   ],
   "source": [
    "plt.pie(data.Category.value_counts().values[0:8],labels=data.Category.value_counts().index[0:8],autopct='%1.1f%%', shadow=True, radius=1.6)\n",
    "plt.show()"
   ]
  },
  {
   "cell_type": "code",
   "execution_count": 45,
   "id": "bc33da09",
   "metadata": {
    "scrolled": true
   },
   "outputs": [],
   "source": [
    "data.drop(['ArticleId'],axis=1,inplace=True)"
   ]
  },
  {
   "cell_type": "code",
   "execution_count": 46,
   "id": "17cdb2e0",
   "metadata": {},
   "outputs": [
    {
     "data": {
      "text/plain": [
       "Text        0\n",
       "Category    0\n",
       "dtype: int64"
      ]
     },
     "execution_count": 46,
     "metadata": {},
     "output_type": "execute_result"
    }
   ],
   "source": [
    "data.isna().sum()"
   ]
  },
  {
   "cell_type": "code",
   "execution_count": 47,
   "id": "3edb7a02",
   "metadata": {},
   "outputs": [
    {
     "data": {
      "text/plain": [
       "0       1866\n",
       "1       2016\n",
       "2       3104\n",
       "3       3618\n",
       "4       2190\n",
       "        ... \n",
       "1485    1266\n",
       "1486    3111\n",
       "1487    1370\n",
       "1488    3242\n",
       "1489    1723\n",
       "Name: Text, Length: 1490, dtype: int64"
      ]
     },
     "execution_count": 47,
     "metadata": {},
     "output_type": "execute_result"
    }
   ],
   "source": [
    "data.Text.apply(len)"
   ]
  },
  {
   "cell_type": "code",
   "execution_count": 48,
   "id": "b538d17b",
   "metadata": {},
   "outputs": [],
   "source": [
    "data['text_length']=data['Text'].apply(lambda x: len(x)-x.count(\" \"))"
   ]
  },
  {
   "cell_type": "code",
   "execution_count": 49,
   "id": "362b6281",
   "metadata": {},
   "outputs": [
    {
     "data": {
      "text/html": [
       "<div>\n",
       "<style scoped>\n",
       "    .dataframe tbody tr th:only-of-type {\n",
       "        vertical-align: middle;\n",
       "    }\n",
       "\n",
       "    .dataframe tbody tr th {\n",
       "        vertical-align: top;\n",
       "    }\n",
       "\n",
       "    .dataframe thead th {\n",
       "        text-align: right;\n",
       "    }\n",
       "</style>\n",
       "<table border=\"1\" class=\"dataframe\">\n",
       "  <thead>\n",
       "    <tr style=\"text-align: right;\">\n",
       "      <th></th>\n",
       "      <th>Text</th>\n",
       "      <th>Category</th>\n",
       "      <th>text_length</th>\n",
       "    </tr>\n",
       "  </thead>\n",
       "  <tbody>\n",
       "    <tr>\n",
       "      <th>0</th>\n",
       "      <td>worldcom ex-boss launches defence lawyers defe...</td>\n",
       "      <td>business</td>\n",
       "      <td>1543</td>\n",
       "    </tr>\n",
       "    <tr>\n",
       "      <th>1</th>\n",
       "      <td>german business confidence slides german busin...</td>\n",
       "      <td>business</td>\n",
       "      <td>1669</td>\n",
       "    </tr>\n",
       "    <tr>\n",
       "      <th>2</th>\n",
       "      <td>bbc poll indicates economic gloom citizens in ...</td>\n",
       "      <td>business</td>\n",
       "      <td>2554</td>\n",
       "    </tr>\n",
       "    <tr>\n",
       "      <th>3</th>\n",
       "      <td>lifestyle  governs mobile choice  faster  bett...</td>\n",
       "      <td>tech</td>\n",
       "      <td>2927</td>\n",
       "    </tr>\n",
       "    <tr>\n",
       "      <th>4</th>\n",
       "      <td>enron bosses in $168m payout eighteen former e...</td>\n",
       "      <td>business</td>\n",
       "      <td>1810</td>\n",
       "    </tr>\n",
       "    <tr>\n",
       "      <th>...</th>\n",
       "      <td>...</td>\n",
       "      <td>...</td>\n",
       "      <td>...</td>\n",
       "    </tr>\n",
       "    <tr>\n",
       "      <th>1485</th>\n",
       "      <td>double eviction from big brother model caprice...</td>\n",
       "      <td>entertainment</td>\n",
       "      <td>1030</td>\n",
       "    </tr>\n",
       "    <tr>\n",
       "      <th>1486</th>\n",
       "      <td>dj double act revamp chart show dj duo jk and ...</td>\n",
       "      <td>entertainment</td>\n",
       "      <td>2493</td>\n",
       "    </tr>\n",
       "    <tr>\n",
       "      <th>1487</th>\n",
       "      <td>weak dollar hits reuters revenues at media gro...</td>\n",
       "      <td>business</td>\n",
       "      <td>1119</td>\n",
       "    </tr>\n",
       "    <tr>\n",
       "      <th>1488</th>\n",
       "      <td>apple ipod family expands market apple has exp...</td>\n",
       "      <td>tech</td>\n",
       "      <td>2648</td>\n",
       "    </tr>\n",
       "    <tr>\n",
       "      <th>1489</th>\n",
       "      <td>santy worm makes unwelcome visit thousands of ...</td>\n",
       "      <td>tech</td>\n",
       "      <td>1420</td>\n",
       "    </tr>\n",
       "  </tbody>\n",
       "</table>\n",
       "<p>1490 rows × 3 columns</p>\n",
       "</div>"
      ],
      "text/plain": [
       "                                                   Text       Category  \\\n",
       "0     worldcom ex-boss launches defence lawyers defe...       business   \n",
       "1     german business confidence slides german busin...       business   \n",
       "2     bbc poll indicates economic gloom citizens in ...       business   \n",
       "3     lifestyle  governs mobile choice  faster  bett...           tech   \n",
       "4     enron bosses in $168m payout eighteen former e...       business   \n",
       "...                                                 ...            ...   \n",
       "1485  double eviction from big brother model caprice...  entertainment   \n",
       "1486  dj double act revamp chart show dj duo jk and ...  entertainment   \n",
       "1487  weak dollar hits reuters revenues at media gro...       business   \n",
       "1488  apple ipod family expands market apple has exp...           tech   \n",
       "1489  santy worm makes unwelcome visit thousands of ...           tech   \n",
       "\n",
       "      text_length  \n",
       "0            1543  \n",
       "1            1669  \n",
       "2            2554  \n",
       "3            2927  \n",
       "4            1810  \n",
       "...           ...  \n",
       "1485         1030  \n",
       "1486         2493  \n",
       "1487         1119  \n",
       "1488         2648  \n",
       "1489         1420  \n",
       "\n",
       "[1490 rows x 3 columns]"
      ]
     },
     "execution_count": 49,
     "metadata": {},
     "output_type": "execute_result"
    }
   ],
   "source": [
    "data"
   ]
  },
  {
   "cell_type": "markdown",
   "id": "9551ce9b",
   "metadata": {},
   "source": [
    "#### to convert into lower casing"
   ]
  },
  {
   "cell_type": "code",
   "execution_count": 50,
   "id": "a73f6f68",
   "metadata": {},
   "outputs": [],
   "source": [
    "data['Text']=data['Text'].str.lower()"
   ]
  },
  {
   "cell_type": "markdown",
   "id": "fd168af5",
   "metadata": {},
   "source": [
    "#### to remove html tags"
   ]
  },
  {
   "cell_type": "code",
   "execution_count": 51,
   "id": "e746b65e",
   "metadata": {},
   "outputs": [],
   "source": [
    "import re\n",
    "def remove_html(text):\n",
    "    pattern=re.compile('<.#?>')\n",
    "    return pattern.sub(r'',text)\n",
    "data['Text']=data['Text'].apply(remove_html)"
   ]
  },
  {
   "cell_type": "markdown",
   "id": "5f90ccfe",
   "metadata": {},
   "source": [
    "#### punctuation removal"
   ]
  },
  {
   "cell_type": "code",
   "execution_count": 52,
   "id": "effa42e4",
   "metadata": {},
   "outputs": [],
   "source": [
    "import string \n",
    "exclude=string.punctuation\n",
    "def remove_punct(text):\n",
    "    for i in exclude:\n",
    "        text=text.replace(i,'')\n",
    "    return text\n",
    "data['Text']=data['Text'].apply(remove_punct)"
   ]
  },
  {
   "cell_type": "markdown",
   "id": "254c2726",
   "metadata": {},
   "source": [
    "#### to remove numbers"
   ]
  },
  {
   "cell_type": "code",
   "execution_count": 53,
   "id": "8e53a92d",
   "metadata": {},
   "outputs": [],
   "source": [
    "def remove_num(text):\n",
    "    pattern=r'[^a-zA-z.,!?/:;\\\"\\'\\s]'\n",
    "    return re.sub(pattern,'',text)\n",
    "data['Text']=data['Text'].apply(remove_num)"
   ]
  },
  {
   "cell_type": "markdown",
   "id": "15586504",
   "metadata": {},
   "source": [
    "#### word tokenization"
   ]
  },
  {
   "cell_type": "code",
   "execution_count": 54,
   "id": "204891cb",
   "metadata": {},
   "outputs": [],
   "source": [
    "data['text_token']=data['Text'].apply(lambda x:nltk.word_tokenize(x))"
   ]
  },
  {
   "cell_type": "code",
   "execution_count": 55,
   "id": "fe9ae265",
   "metadata": {},
   "outputs": [],
   "source": [
    "import nltk"
   ]
  },
  {
   "cell_type": "markdown",
   "id": "daaecfdb",
   "metadata": {},
   "source": [
    "#### stop word removal"
   ]
  },
  {
   "cell_type": "code",
   "execution_count": 56,
   "id": "dd1c5330",
   "metadata": {},
   "outputs": [],
   "source": [
    "from nltk.corpus import stopwords\n",
    "stopwords.words('english')\n",
    "def stopword(text):\n",
    "    y=[]\n",
    "    for i in text:\n",
    "        if i not in stopwords.words('english'):\n",
    "            y.append(i)\n",
    "    return y\n",
    "data['text_token']=data['text_token'].apply(stopword)"
   ]
  },
  {
   "cell_type": "markdown",
   "id": "665f1ad6",
   "metadata": {},
   "source": [
    "#### stemming"
   ]
  },
  {
   "cell_type": "code",
   "execution_count": 62,
   "id": "6308462f",
   "metadata": {
    "scrolled": true
   },
   "outputs": [],
   "source": [
    "from nltk.stem import PorterStemmer\n",
    "ps=PorterStemmer()\n",
    "def stemmer(text):\n",
    "    text=[ps.stem(word) for word in text]\n",
    "    return text\n",
    "data['text_token']=data['text_token'].apply(lambda x: stemmer(x))"
   ]
  },
  {
   "cell_type": "code",
   "execution_count": 58,
   "id": "72269354",
   "metadata": {},
   "outputs": [
    {
     "data": {
      "text/html": [
       "<div>\n",
       "<style scoped>\n",
       "    .dataframe tbody tr th:only-of-type {\n",
       "        vertical-align: middle;\n",
       "    }\n",
       "\n",
       "    .dataframe tbody tr th {\n",
       "        vertical-align: top;\n",
       "    }\n",
       "\n",
       "    .dataframe thead th {\n",
       "        text-align: right;\n",
       "    }\n",
       "</style>\n",
       "<table border=\"1\" class=\"dataframe\">\n",
       "  <thead>\n",
       "    <tr style=\"text-align: right;\">\n",
       "      <th></th>\n",
       "      <th>Text</th>\n",
       "      <th>Category</th>\n",
       "      <th>text_length</th>\n",
       "      <th>text_token</th>\n",
       "    </tr>\n",
       "  </thead>\n",
       "  <tbody>\n",
       "    <tr>\n",
       "      <th>0</th>\n",
       "      <td>worldcom exboss launches defence lawyers defen...</td>\n",
       "      <td>business</td>\n",
       "      <td>1543</td>\n",
       "      <td>[worldcom, exboss, launch, defenc, lawyer, def...</td>\n",
       "    </tr>\n",
       "    <tr>\n",
       "      <th>1</th>\n",
       "      <td>german business confidence slides german busin...</td>\n",
       "      <td>business</td>\n",
       "      <td>1669</td>\n",
       "      <td>[german, busi, confid, slide, german, busi, co...</td>\n",
       "    </tr>\n",
       "    <tr>\n",
       "      <th>2</th>\n",
       "      <td>bbc poll indicates economic gloom citizens in ...</td>\n",
       "      <td>business</td>\n",
       "      <td>2554</td>\n",
       "      <td>[bbc, poll, indic, econom, gloom, citizen, maj...</td>\n",
       "    </tr>\n",
       "    <tr>\n",
       "      <th>3</th>\n",
       "      <td>lifestyle  governs mobile choice  faster  bett...</td>\n",
       "      <td>tech</td>\n",
       "      <td>2927</td>\n",
       "      <td>[lifestyl, govern, mobil, choic, faster, bette...</td>\n",
       "    </tr>\n",
       "    <tr>\n",
       "      <th>4</th>\n",
       "      <td>enron bosses in m payout eighteen former enron...</td>\n",
       "      <td>business</td>\n",
       "      <td>1810</td>\n",
       "      <td>[enron, boss, payout, eighteen, former, enron,...</td>\n",
       "    </tr>\n",
       "    <tr>\n",
       "      <th>...</th>\n",
       "      <td>...</td>\n",
       "      <td>...</td>\n",
       "      <td>...</td>\n",
       "      <td>...</td>\n",
       "    </tr>\n",
       "    <tr>\n",
       "      <th>1485</th>\n",
       "      <td>double eviction from big brother model caprice...</td>\n",
       "      <td>entertainment</td>\n",
       "      <td>1030</td>\n",
       "      <td>[doubl, evict, big, brother, model, capric, ho...</td>\n",
       "    </tr>\n",
       "    <tr>\n",
       "      <th>1486</th>\n",
       "      <td>dj double act revamp chart show dj duo jk and ...</td>\n",
       "      <td>entertainment</td>\n",
       "      <td>2493</td>\n",
       "      <td>[dj, doubl, act, revamp, chart, show, dj, duo,...</td>\n",
       "    </tr>\n",
       "    <tr>\n",
       "      <th>1487</th>\n",
       "      <td>weak dollar hits reuters revenues at media gro...</td>\n",
       "      <td>business</td>\n",
       "      <td>1119</td>\n",
       "      <td>[weak, dollar, hit, reuter, revenu, media, gro...</td>\n",
       "    </tr>\n",
       "    <tr>\n",
       "      <th>1488</th>\n",
       "      <td>apple ipod family expands market apple has exp...</td>\n",
       "      <td>tech</td>\n",
       "      <td>2648</td>\n",
       "      <td>[appl, ipod, famili, expand, market, appl, exp...</td>\n",
       "    </tr>\n",
       "    <tr>\n",
       "      <th>1489</th>\n",
       "      <td>santy worm makes unwelcome visit thousands of ...</td>\n",
       "      <td>tech</td>\n",
       "      <td>1420</td>\n",
       "      <td>[santi, worm, make, unwelcom, visit, thousand,...</td>\n",
       "    </tr>\n",
       "  </tbody>\n",
       "</table>\n",
       "<p>1490 rows × 4 columns</p>\n",
       "</div>"
      ],
      "text/plain": [
       "                                                   Text       Category  \\\n",
       "0     worldcom exboss launches defence lawyers defen...       business   \n",
       "1     german business confidence slides german busin...       business   \n",
       "2     bbc poll indicates economic gloom citizens in ...       business   \n",
       "3     lifestyle  governs mobile choice  faster  bett...           tech   \n",
       "4     enron bosses in m payout eighteen former enron...       business   \n",
       "...                                                 ...            ...   \n",
       "1485  double eviction from big brother model caprice...  entertainment   \n",
       "1486  dj double act revamp chart show dj duo jk and ...  entertainment   \n",
       "1487  weak dollar hits reuters revenues at media gro...       business   \n",
       "1488  apple ipod family expands market apple has exp...           tech   \n",
       "1489  santy worm makes unwelcome visit thousands of ...           tech   \n",
       "\n",
       "      text_length                                         text_token  \n",
       "0            1543  [worldcom, exboss, launch, defenc, lawyer, def...  \n",
       "1            1669  [german, busi, confid, slide, german, busi, co...  \n",
       "2            2554  [bbc, poll, indic, econom, gloom, citizen, maj...  \n",
       "3            2927  [lifestyl, govern, mobil, choic, faster, bette...  \n",
       "4            1810  [enron, boss, payout, eighteen, former, enron,...  \n",
       "...           ...                                                ...  \n",
       "1485         1030  [doubl, evict, big, brother, model, capric, ho...  \n",
       "1486         2493  [dj, doubl, act, revamp, chart, show, dj, duo,...  \n",
       "1487         1119  [weak, dollar, hit, reuter, revenu, media, gro...  \n",
       "1488         2648  [appl, ipod, famili, expand, market, appl, exp...  \n",
       "1489         1420  [santi, worm, make, unwelcom, visit, thousand,...  \n",
       "\n",
       "[1490 rows x 4 columns]"
      ]
     },
     "execution_count": 58,
     "metadata": {},
     "output_type": "execute_result"
    }
   ],
   "source": [
    "data"
   ]
  },
  {
   "cell_type": "code",
   "execution_count": 59,
   "id": "589b0764",
   "metadata": {},
   "outputs": [],
   "source": [
    "from sklearn.preprocessing import LabelEncoder\n",
    "lb=LabelEncoder()\n",
    "data['Category']=lb.fit_transform(data['Category'])\n"
   ]
  },
  {
   "cell_type": "code",
   "execution_count": 60,
   "id": "1ef03b9b",
   "metadata": {},
   "outputs": [
    {
     "data": {
      "text/html": [
       "<div>\n",
       "<style scoped>\n",
       "    .dataframe tbody tr th:only-of-type {\n",
       "        vertical-align: middle;\n",
       "    }\n",
       "\n",
       "    .dataframe tbody tr th {\n",
       "        vertical-align: top;\n",
       "    }\n",
       "\n",
       "    .dataframe thead th {\n",
       "        text-align: right;\n",
       "    }\n",
       "</style>\n",
       "<table border=\"1\" class=\"dataframe\">\n",
       "  <thead>\n",
       "    <tr style=\"text-align: right;\">\n",
       "      <th></th>\n",
       "      <th>Text</th>\n",
       "      <th>Category</th>\n",
       "      <th>text_length</th>\n",
       "      <th>text_token</th>\n",
       "    </tr>\n",
       "  </thead>\n",
       "  <tbody>\n",
       "    <tr>\n",
       "      <th>0</th>\n",
       "      <td>worldcom exboss launches defence lawyers defen...</td>\n",
       "      <td>0</td>\n",
       "      <td>1543</td>\n",
       "      <td>[worldcom, exboss, launch, defenc, lawyer, def...</td>\n",
       "    </tr>\n",
       "    <tr>\n",
       "      <th>1</th>\n",
       "      <td>german business confidence slides german busin...</td>\n",
       "      <td>0</td>\n",
       "      <td>1669</td>\n",
       "      <td>[german, busi, confid, slide, german, busi, co...</td>\n",
       "    </tr>\n",
       "    <tr>\n",
       "      <th>2</th>\n",
       "      <td>bbc poll indicates economic gloom citizens in ...</td>\n",
       "      <td>0</td>\n",
       "      <td>2554</td>\n",
       "      <td>[bbc, poll, indic, econom, gloom, citizen, maj...</td>\n",
       "    </tr>\n",
       "    <tr>\n",
       "      <th>3</th>\n",
       "      <td>lifestyle  governs mobile choice  faster  bett...</td>\n",
       "      <td>4</td>\n",
       "      <td>2927</td>\n",
       "      <td>[lifestyl, govern, mobil, choic, faster, bette...</td>\n",
       "    </tr>\n",
       "    <tr>\n",
       "      <th>4</th>\n",
       "      <td>enron bosses in m payout eighteen former enron...</td>\n",
       "      <td>0</td>\n",
       "      <td>1810</td>\n",
       "      <td>[enron, boss, payout, eighteen, former, enron,...</td>\n",
       "    </tr>\n",
       "    <tr>\n",
       "      <th>...</th>\n",
       "      <td>...</td>\n",
       "      <td>...</td>\n",
       "      <td>...</td>\n",
       "      <td>...</td>\n",
       "    </tr>\n",
       "    <tr>\n",
       "      <th>1485</th>\n",
       "      <td>double eviction from big brother model caprice...</td>\n",
       "      <td>1</td>\n",
       "      <td>1030</td>\n",
       "      <td>[doubl, evict, big, brother, model, capric, ho...</td>\n",
       "    </tr>\n",
       "    <tr>\n",
       "      <th>1486</th>\n",
       "      <td>dj double act revamp chart show dj duo jk and ...</td>\n",
       "      <td>1</td>\n",
       "      <td>2493</td>\n",
       "      <td>[dj, doubl, act, revamp, chart, show, dj, duo,...</td>\n",
       "    </tr>\n",
       "    <tr>\n",
       "      <th>1487</th>\n",
       "      <td>weak dollar hits reuters revenues at media gro...</td>\n",
       "      <td>0</td>\n",
       "      <td>1119</td>\n",
       "      <td>[weak, dollar, hit, reuter, revenu, media, gro...</td>\n",
       "    </tr>\n",
       "    <tr>\n",
       "      <th>1488</th>\n",
       "      <td>apple ipod family expands market apple has exp...</td>\n",
       "      <td>4</td>\n",
       "      <td>2648</td>\n",
       "      <td>[appl, ipod, famili, expand, market, appl, exp...</td>\n",
       "    </tr>\n",
       "    <tr>\n",
       "      <th>1489</th>\n",
       "      <td>santy worm makes unwelcome visit thousands of ...</td>\n",
       "      <td>4</td>\n",
       "      <td>1420</td>\n",
       "      <td>[santi, worm, make, unwelcom, visit, thousand,...</td>\n",
       "    </tr>\n",
       "  </tbody>\n",
       "</table>\n",
       "<p>1490 rows × 4 columns</p>\n",
       "</div>"
      ],
      "text/plain": [
       "                                                   Text  Category  \\\n",
       "0     worldcom exboss launches defence lawyers defen...         0   \n",
       "1     german business confidence slides german busin...         0   \n",
       "2     bbc poll indicates economic gloom citizens in ...         0   \n",
       "3     lifestyle  governs mobile choice  faster  bett...         4   \n",
       "4     enron bosses in m payout eighteen former enron...         0   \n",
       "...                                                 ...       ...   \n",
       "1485  double eviction from big brother model caprice...         1   \n",
       "1486  dj double act revamp chart show dj duo jk and ...         1   \n",
       "1487  weak dollar hits reuters revenues at media gro...         0   \n",
       "1488  apple ipod family expands market apple has exp...         4   \n",
       "1489  santy worm makes unwelcome visit thousands of ...         4   \n",
       "\n",
       "      text_length                                         text_token  \n",
       "0            1543  [worldcom, exboss, launch, defenc, lawyer, def...  \n",
       "1            1669  [german, busi, confid, slide, german, busi, co...  \n",
       "2            2554  [bbc, poll, indic, econom, gloom, citizen, maj...  \n",
       "3            2927  [lifestyl, govern, mobil, choic, faster, bette...  \n",
       "4            1810  [enron, boss, payout, eighteen, former, enron,...  \n",
       "...           ...                                                ...  \n",
       "1485         1030  [doubl, evict, big, brother, model, capric, ho...  \n",
       "1486         2493  [dj, doubl, act, revamp, chart, show, dj, duo,...  \n",
       "1487         1119  [weak, dollar, hit, reuter, revenu, media, gro...  \n",
       "1488         2648  [appl, ipod, famili, expand, market, appl, exp...  \n",
       "1489         1420  [santi, worm, make, unwelcom, visit, thousand,...  \n",
       "\n",
       "[1490 rows x 4 columns]"
      ]
     },
     "execution_count": 60,
     "metadata": {},
     "output_type": "execute_result"
    }
   ],
   "source": [
    "data"
   ]
  },
  {
   "cell_type": "code",
   "execution_count": 65,
   "id": "d3e98bd5",
   "metadata": {},
   "outputs": [
    {
     "name": "stdout",
     "output_type": "stream",
     "text": [
      "(1490, 8015)\n",
      "['abide', 'abided', 'abilities', 'ablebodied', 'abolishing', 'abortion', 'absent', 'absentee', 'absorb', 'absorbed', 'absorbing', 'absurd', 'abuses', 'abusing', 'abusive']\n"
     ]
    },
    {
     "name": "stderr",
     "output_type": "stream",
     "text": [
      "C:\\Users\\shaha\\anaconda3\\lib\\site-packages\\sklearn\\utils\\deprecation.py:87: FutureWarning: Function get_feature_names is deprecated; get_feature_names is deprecated in 1.0 and will be removed in 1.2. Please use get_feature_names_out instead.\n",
      "  warnings.warn(msg, category=FutureWarning)\n"
     ]
    }
   ],
   "source": [
    "from sklearn.feature_extraction.text import CountVectorizer\n",
    "Countvec=CountVectorizer(min_df=2,max_df=5)\n",
    "x_counts=Countvec.fit_transform(data['Text'])\n",
    "print(x_counts.shape)\n",
    "print(Countvec.get_feature_names()[15:30])"
   ]
  },
  {
   "cell_type": "code",
   "execution_count": 66,
   "id": "6be345af",
   "metadata": {},
   "outputs": [
    {
     "name": "stdout",
     "output_type": "stream",
     "text": [
      "(1490, 156998)\n",
      "[6.6977644  7.20859003 7.20859003 ... 6.51544285 7.20859003 7.20859003]\n",
      "['abbas', 'abbas said', 'abbas will', 'abbasi', 'abbasi and', 'abbasi and mr', 'abbasi and mr mubanga', 'abbasi from', 'abbott', 'abbott and', 'abc network', 'abc television', 'abc television program', 'abc television program earlier', 'abdellatif']\n"
     ]
    }
   ],
   "source": [
    "from sklearn.feature_extraction.text import TfidfVectorizer\n",
    "tfidf=TfidfVectorizer(ngram_range=(1,4),min_df=2,max_df=5)\n",
    "x_tf=tfidf.fit_transform(data['Text'])\n",
    "print(x_tf.shape)\n",
    "print(tfidf.idf_)\n",
    "print(tfidf.get_feature_names()[15:30])"
   ]
  },
  {
   "cell_type": "code",
   "execution_count": 88,
   "id": "ab12233a",
   "metadata": {},
   "outputs": [],
   "source": [
    "X=x_tf\n",
    "y=data['Category']"
   ]
  },
  {
   "cell_type": "code",
   "execution_count": 89,
   "id": "d6b20166",
   "metadata": {},
   "outputs": [],
   "source": [
    "from sklearn.model_selection import train_test_split\n",
    "x_train,x_test,y_train,y_test=train_test_split(X,y,test_size=0.2,random_state=42)"
   ]
  },
  {
   "cell_type": "code",
   "execution_count": 90,
   "id": "3b55afbf",
   "metadata": {},
   "outputs": [
    {
     "name": "stdout",
     "output_type": "stream",
     "text": [
      "accuracy score 0.5604026845637584\n",
      "precision 0.5604026845637584 -------- recall0.5604026845637584 \n"
     ]
    }
   ],
   "source": [
    "from sklearn.ensemble import RandomForestClassifier\n",
    "from sklearn.metrics import precision_score,recall_score\n",
    "from sklearn.metrics import accuracy_score\n",
    "rf=RandomForestClassifier()\n",
    "rf.fit(x_train,y_train)\n",
    "y_pred=rf.predict(x_test)\n",
    "print(\"accuracy score\", accuracy_score(y_pred,y_test))\n",
    "print('precision {} -------- recall{} '.format(precision_score(y_pred,y_test,average='micro'),recall_score(y_test,y_pred,average='micro')))"
   ]
  },
  {
   "cell_type": "code",
   "execution_count": null,
   "id": "e6266414",
   "metadata": {},
   "outputs": [],
   "source": []
  }
 ],
 "metadata": {
  "kernelspec": {
   "display_name": "Python 3 (ipykernel)",
   "language": "python",
   "name": "python3"
  },
  "language_info": {
   "codemirror_mode": {
    "name": "ipython",
    "version": 3
   },
   "file_extension": ".py",
   "mimetype": "text/x-python",
   "name": "python",
   "nbconvert_exporter": "python",
   "pygments_lexer": "ipython3",
   "version": "3.9.12"
  }
 },
 "nbformat": 4,
 "nbformat_minor": 5
}
